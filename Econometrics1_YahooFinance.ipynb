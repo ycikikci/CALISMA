{
 "cells": [
  {
   "cell_type": "code",
   "execution_count": 1,
   "id": "68083170-11ed-4ece-a944-5e4e066fc2a1",
   "metadata": {
    "tags": []
   },
   "outputs": [],
   "source": [
    "import yfinance as yf"
   ]
  },
  {
   "cell_type": "code",
   "execution_count": 2,
   "id": "c8f68840-fd3d-4eb4-a932-2d915a5d1196",
   "metadata": {
    "tags": []
   },
   "outputs": [
    {
     "name": "stdout",
     "output_type": "stream",
     "text": [
      "[*********************100%%**********************]  1 of 1 completed\n"
     ]
    }
   ],
   "source": [
    "data = yf.download('NVDA',interval='1mo')['Adj Close']"
   ]
  },
  {
   "cell_type": "code",
   "execution_count": 3,
   "id": "bfcc6f44-827f-4e2e-afd6-108505422796",
   "metadata": {
    "tags": []
   },
   "outputs": [
    {
     "data": {
      "image/png": "[encoded data removed]",
      "text/plain": [
       "<Figure size 640x480 with 1 Axes>"
      ]
     },
     "metadata": {},
     "output_type": "display_data"
    }
   ],
   "source": [
    "# a) Plot the stock price over time.\n",
    "\n",
    "import matplotlib.pyplot as plt\n",
    "data.plot()\n",
    "plt.xlabel(\"Date\")\n",
    "plt.ylabel(\"Adjusted\")\n",
    "plt.title(\"NVDA Index Level Data\")\n",
    "plt.show()"
   ]
  },
  {
   "cell_type": "code",
   "execution_count": 4,
   "id": "d0fc811b-ab2d-41a6-a609-573e76365700",
   "metadata": {
    "tags": []
   },
   "outputs": [
    {
     "name": "stdout",
     "output_type": "stream",
     "text": [
      "[*********************100%%**********************]  1 of 1 completed\n"
     ]
    }
   ],
   "source": [
    "data = yf.download('NVDA',interval='1mo')\n",
    "data = data.loc[:, ['Adj Close']]"
   ]
  },
  {
   "cell_type": "code",
   "execution_count": 5,
   "id": "49deaac9-f5a8-4208-a160-d7d48880a997",
   "metadata": {
    "tags": []
   },
   "outputs": [],
   "source": [
    "#b) Calculate the monthly returns and plot them.\n",
    "\n",
    "returns = data['Adj Close'].pct_change()\n",
    "data['returns'] = data['Adj Close'].pct_change().dropna()"
   ]
  },
  {
   "cell_type": "code",
   "execution_count": 6,
   "id": "4da528e4-0893-45c9-9a14-607be51174fd",
   "metadata": {
    "tags": []
   },
   "outputs": [
    {
     "data": {
      "text/html": [
       "<div>\n",
       "<style scoped>\n",
       "    .dataframe tbody tr th:only-of-type {\n",
       "        vertical-align: middle;\n",
       "    }\n",
       "\n",
       "    .dataframe tbody tr th {\n",
       "        vertical-align: top;\n",
       "    }\n",
       "\n",
       "    .dataframe thead th {\n",
       "        text-align: right;\n",
       "    }\n",
       "</style>\n",
       "<table border=\"1\" class=\"dataframe\">\n",
       "  <thead>\n",
       "    <tr style=\"text-align: right;\">\n",
       "      <th></th>\n",
       "      <th>Adj Close</th>\n",
       "      <th>returns</th>\n",
       "    </tr>\n",
       "  </thead>\n",
       "  <tbody>\n",
       "    <tr>\n",
       "      <th>count</th>\n",
       "      <td>298.000000</td>\n",
       "      <td>297.000000</td>\n",
       "    </tr>\n",
       "    <tr>\n",
       "      <th>mean</th>\n",
       "      <td>41.319043</td>\n",
       "      <td>0.038797</td>\n",
       "    </tr>\n",
       "    <tr>\n",
       "      <th>std</th>\n",
       "      <td>87.087532</td>\n",
       "      <td>0.178351</td>\n",
       "    </tr>\n",
       "    <tr>\n",
       "      <th>min</th>\n",
       "      <td>0.326116</td>\n",
       "      <td>-0.486551</td>\n",
       "    </tr>\n",
       "    <tr>\n",
       "      <th>25%</th>\n",
       "      <td>2.500804</td>\n",
       "      <td>-0.056095</td>\n",
       "    </tr>\n",
       "    <tr>\n",
       "      <th>50%</th>\n",
       "      <td>4.238801</td>\n",
       "      <td>0.030835</td>\n",
       "    </tr>\n",
       "    <tr>\n",
       "      <th>75%</th>\n",
       "      <td>35.695159</td>\n",
       "      <td>0.122970</td>\n",
       "    </tr>\n",
       "    <tr>\n",
       "      <th>max</th>\n",
       "      <td>493.509338</td>\n",
       "      <td>0.826238</td>\n",
       "    </tr>\n",
       "  </tbody>\n",
       "</table>\n",
       "</div>"
      ],
      "text/plain": [
       "        Adj Close     returns\n",
       "count  298.000000  297.000000\n",
       "mean    41.319043    0.038797\n",
       "std     87.087532    0.178351\n",
       "min      0.326116   -0.486551\n",
       "25%      2.500804   -0.056095\n",
       "50%      4.238801    0.030835\n",
       "75%     35.695159    0.122970\n",
       "max    493.509338    0.826238"
      ]
     },
     "execution_count": 6,
     "metadata": {},
     "output_type": "execute_result"
    }
   ],
   "source": [
    "data.describe()"
   ]
  },
  {
   "cell_type": "code",
   "execution_count": 7,
   "id": "3b8a657b-6ad2-4cef-af8d-0cf860bf9979",
   "metadata": {
    "tags": []
   },
   "outputs": [
    {
     "data": {
      "text/html": [
       "<div>\n",
       "<style scoped>\n",
       "    .dataframe tbody tr th:only-of-type {\n",
       "        vertical-align: middle;\n",
       "    }\n",
       "\n",
       "    .dataframe tbody tr th {\n",
       "        vertical-align: top;\n",
       "    }\n",
       "\n",
       "    .dataframe thead th {\n",
       "        text-align: right;\n",
       "    }\n",
       "</style>\n",
       "<table border=\"1\" class=\"dataframe\">\n",
       "  <thead>\n",
       "    <tr style=\"text-align: right;\">\n",
       "      <th></th>\n",
       "      <th>Adj Close</th>\n",
       "      <th>returns</th>\n",
       "    </tr>\n",
       "    <tr>\n",
       "      <th>Date</th>\n",
       "      <th></th>\n",
       "      <th></th>\n",
       "    </tr>\n",
       "  </thead>\n",
       "  <tbody>\n",
       "    <tr>\n",
       "      <th>1999-02-01</th>\n",
       "      <td>0.419292</td>\n",
       "      <td>NaN</td>\n",
       "    </tr>\n",
       "    <tr>\n",
       "      <th>1999-03-01</th>\n",
       "      <td>0.403763</td>\n",
       "      <td>-0.037037</td>\n",
       "    </tr>\n",
       "    <tr>\n",
       "      <th>1999-04-01</th>\n",
       "      <td>0.348813</td>\n",
       "      <td>-0.136095</td>\n",
       "    </tr>\n",
       "    <tr>\n",
       "      <th>1999-05-01</th>\n",
       "      <td>0.326116</td>\n",
       "      <td>-0.065067</td>\n",
       "    </tr>\n",
       "    <tr>\n",
       "      <th>1999-06-01</th>\n",
       "      <td>0.365537</td>\n",
       "      <td>0.120880</td>\n",
       "    </tr>\n",
       "    <tr>\n",
       "      <th>...</th>\n",
       "      <td>...</td>\n",
       "      <td>...</td>\n",
       "    </tr>\n",
       "    <tr>\n",
       "      <th>2023-07-01</th>\n",
       "      <td>467.251526</td>\n",
       "      <td>0.104767</td>\n",
       "    </tr>\n",
       "    <tr>\n",
       "      <th>2023-08-01</th>\n",
       "      <td>493.509338</td>\n",
       "      <td>0.056196</td>\n",
       "    </tr>\n",
       "    <tr>\n",
       "      <th>2023-09-01</th>\n",
       "      <td>434.954163</td>\n",
       "      <td>-0.118651</td>\n",
       "    </tr>\n",
       "    <tr>\n",
       "      <th>2023-10-01</th>\n",
       "      <td>407.799988</td>\n",
       "      <td>-0.062430</td>\n",
       "    </tr>\n",
       "    <tr>\n",
       "      <th>2023-11-01</th>\n",
       "      <td>450.049988</td>\n",
       "      <td>0.103605</td>\n",
       "    </tr>\n",
       "  </tbody>\n",
       "</table>\n",
       "<p>298 rows × 2 columns</p>\n",
       "</div>"
      ],
      "text/plain": [
       "             Adj Close   returns\n",
       "Date                            \n",
       "1999-02-01    0.419292       NaN\n",
       "1999-03-01    0.403763 -0.037037\n",
       "1999-04-01    0.348813 -0.136095\n",
       "1999-05-01    0.326116 -0.065067\n",
       "1999-06-01    0.365537  0.120880\n",
       "...                ...       ...\n",
       "2023-07-01  467.251526  0.104767\n",
       "2023-08-01  493.509338  0.056196\n",
       "2023-09-01  434.954163 -0.118651\n",
       "2023-10-01  407.799988 -0.062430\n",
       "2023-11-01  450.049988  0.103605\n",
       "\n",
       "[298 rows x 2 columns]"
      ]
     },
     "execution_count": 7,
     "metadata": {},
     "output_type": "execute_result"
    }
   ],
   "source": [
    "data"
   ]
  },
  {
   "cell_type": "code",
   "execution_count": 8,
   "id": "a616ab17-c224-4470-842e-d81401d77310",
   "metadata": {
    "tags": []
   },
   "outputs": [
    {
     "data": {
      "image/png": "[encoded data removed]",
      "text/plain": [
       "<Figure size 640x480 with 1 Axes>"
      ]
     },
     "metadata": {},
     "output_type": "display_data"
    }
   ],
   "source": [
    "#b) Calculate the monthly returns and plot them.\n",
    "\n",
    "fig = plt.figure()\n",
    "ax1 = fig.add_axes([0.1,0.1,0.8,0.8])\n",
    "ax1.plot(data['returns'])\n",
    "ax1.set_xlabel(\"Date\")\n",
    "ax1.set_ylabel(\"Percent\")\n",
    "ax1.set_title(\"NVDA Monthly Returns Data\")\n",
    "plt.show()"
   ]
  },
  {
   "cell_type": "code",
   "execution_count": 9,
   "id": "b5256fe3-f9ed-485b-8aa6-6cba0c36904d",
   "metadata": {
    "tags": []
   },
   "outputs": [
    {
     "name": "stdout",
     "output_type": "stream",
     "text": [
      "        Adj Close     returns       Month\n",
      "count  298.000000  297.000000  298.000000\n",
      "mean    41.319043    0.038797    6.500000\n",
      "std     87.087532    0.178351    3.439961\n",
      "min      0.326116   -0.486551    1.000000\n",
      "25%      2.500804   -0.056095    4.000000\n",
      "50%      4.238801    0.030835    6.500000\n",
      "75%     35.695159    0.122970    9.000000\n",
      "max    493.509338    0.826238   12.000000\n"
     ]
    }
   ],
   "source": [
    "data['Month'] = data.index.month\n",
    "\n",
    "# c) Provide summary statistics for monthly returns.\n",
    "\n",
    "print(data.describe())"
   ]
  },
  {
   "cell_type": "code",
   "execution_count": 10,
   "id": "e2e99115-618d-4535-aaf1-faf660067853",
   "metadata": {
    "tags": []
   },
   "outputs": [
    {
     "data": {
      "text/html": [
       "<div>\n",
       "<style scoped>\n",
       "    .dataframe tbody tr th:only-of-type {\n",
       "        vertical-align: middle;\n",
       "    }\n",
       "\n",
       "    .dataframe tbody tr th {\n",
       "        vertical-align: top;\n",
       "    }\n",
       "\n",
       "    .dataframe thead th {\n",
       "        text-align: right;\n",
       "    }\n",
       "</style>\n",
       "<table border=\"1\" class=\"dataframe\">\n",
       "  <thead>\n",
       "    <tr style=\"text-align: right;\">\n",
       "      <th></th>\n",
       "      <th>Adj Close</th>\n",
       "      <th>returns</th>\n",
       "      <th>Month</th>\n",
       "    </tr>\n",
       "    <tr>\n",
       "      <th>Date</th>\n",
       "      <th></th>\n",
       "      <th></th>\n",
       "      <th></th>\n",
       "    </tr>\n",
       "  </thead>\n",
       "  <tbody>\n",
       "    <tr>\n",
       "      <th>1999-02-01</th>\n",
       "      <td>0.419292</td>\n",
       "      <td>NaN</td>\n",
       "      <td>2</td>\n",
       "    </tr>\n",
       "    <tr>\n",
       "      <th>1999-03-01</th>\n",
       "      <td>0.403763</td>\n",
       "      <td>-0.037037</td>\n",
       "      <td>3</td>\n",
       "    </tr>\n",
       "    <tr>\n",
       "      <th>1999-04-01</th>\n",
       "      <td>0.348813</td>\n",
       "      <td>-0.136095</td>\n",
       "      <td>4</td>\n",
       "    </tr>\n",
       "    <tr>\n",
       "      <th>1999-05-01</th>\n",
       "      <td>0.326116</td>\n",
       "      <td>-0.065067</td>\n",
       "      <td>5</td>\n",
       "    </tr>\n",
       "    <tr>\n",
       "      <th>1999-06-01</th>\n",
       "      <td>0.365537</td>\n",
       "      <td>0.120880</td>\n",
       "      <td>6</td>\n",
       "    </tr>\n",
       "    <tr>\n",
       "      <th>...</th>\n",
       "      <td>...</td>\n",
       "      <td>...</td>\n",
       "      <td>...</td>\n",
       "    </tr>\n",
       "    <tr>\n",
       "      <th>2023-07-01</th>\n",
       "      <td>467.251526</td>\n",
       "      <td>0.104767</td>\n",
       "      <td>7</td>\n",
       "    </tr>\n",
       "    <tr>\n",
       "      <th>2023-08-01</th>\n",
       "      <td>493.509338</td>\n",
       "      <td>0.056196</td>\n",
       "      <td>8</td>\n",
       "    </tr>\n",
       "    <tr>\n",
       "      <th>2023-09-01</th>\n",
       "      <td>434.954163</td>\n",
       "      <td>-0.118651</td>\n",
       "      <td>9</td>\n",
       "    </tr>\n",
       "    <tr>\n",
       "      <th>2023-10-01</th>\n",
       "      <td>407.799988</td>\n",
       "      <td>-0.062430</td>\n",
       "      <td>10</td>\n",
       "    </tr>\n",
       "    <tr>\n",
       "      <th>2023-11-01</th>\n",
       "      <td>450.049988</td>\n",
       "      <td>0.103605</td>\n",
       "      <td>11</td>\n",
       "    </tr>\n",
       "  </tbody>\n",
       "</table>\n",
       "<p>298 rows × 3 columns</p>\n",
       "</div>"
      ],
      "text/plain": [
       "             Adj Close   returns  Month\n",
       "Date                                   \n",
       "1999-02-01    0.419292       NaN      2\n",
       "1999-03-01    0.403763 -0.037037      3\n",
       "1999-04-01    0.348813 -0.136095      4\n",
       "1999-05-01    0.326116 -0.065067      5\n",
       "1999-06-01    0.365537  0.120880      6\n",
       "...                ...       ...    ...\n",
       "2023-07-01  467.251526  0.104767      7\n",
       "2023-08-01  493.509338  0.056196      8\n",
       "2023-09-01  434.954163 -0.118651      9\n",
       "2023-10-01  407.799988 -0.062430     10\n",
       "2023-11-01  450.049988  0.103605     11\n",
       "\n",
       "[298 rows x 3 columns]"
      ]
     },
     "execution_count": 10,
     "metadata": {},
     "output_type": "execute_result"
    }
   ],
   "source": [
    "data"
   ]
  },
  {
   "cell_type": "code",
   "execution_count": 11,
   "id": "0f58b9ce-97de-41d7-b208-faf9b735a176",
   "metadata": {
    "tags": []
   },
   "outputs": [
    {
     "name": "stdout",
     "output_type": "stream",
     "text": [
      "[*********************100%%**********************]  2 of 2 completed\n"
     ]
    },
    {
     "data": {
      "text/html": [
       "<div>\n",
       "<style scoped>\n",
       "    .dataframe tbody tr th:only-of-type {\n",
       "        vertical-align: middle;\n",
       "    }\n",
       "\n",
       "    .dataframe tbody tr th {\n",
       "        vertical-align: top;\n",
       "    }\n",
       "\n",
       "    .dataframe thead th {\n",
       "        text-align: right;\n",
       "    }\n",
       "</style>\n",
       "<table border=\"1\" class=\"dataframe\">\n",
       "  <thead>\n",
       "    <tr style=\"text-align: right;\">\n",
       "      <th></th>\n",
       "      <th>NVDA</th>\n",
       "      <th>^GSPC</th>\n",
       "    </tr>\n",
       "    <tr>\n",
       "      <th>Date</th>\n",
       "      <th></th>\n",
       "      <th></th>\n",
       "    </tr>\n",
       "  </thead>\n",
       "  <tbody>\n",
       "    <tr>\n",
       "      <th>1999-03-01</th>\n",
       "      <td>-0.037037</td>\n",
       "      <td>0.038794</td>\n",
       "    </tr>\n",
       "    <tr>\n",
       "      <th>1999-04-01</th>\n",
       "      <td>-0.136095</td>\n",
       "      <td>0.037944</td>\n",
       "    </tr>\n",
       "    <tr>\n",
       "      <th>1999-05-01</th>\n",
       "      <td>-0.065067</td>\n",
       "      <td>-0.024970</td>\n",
       "    </tr>\n",
       "    <tr>\n",
       "      <th>1999-06-01</th>\n",
       "      <td>0.120880</td>\n",
       "      <td>0.054438</td>\n",
       "    </tr>\n",
       "    <tr>\n",
       "      <th>1999-07-01</th>\n",
       "      <td>0.052287</td>\n",
       "      <td>-0.032046</td>\n",
       "    </tr>\n",
       "    <tr>\n",
       "      <th>...</th>\n",
       "      <td>...</td>\n",
       "      <td>...</td>\n",
       "    </tr>\n",
       "    <tr>\n",
       "      <th>2023-07-01</th>\n",
       "      <td>0.104767</td>\n",
       "      <td>0.031139</td>\n",
       "    </tr>\n",
       "    <tr>\n",
       "      <th>2023-08-01</th>\n",
       "      <td>0.056196</td>\n",
       "      <td>-0.017716</td>\n",
       "    </tr>\n",
       "    <tr>\n",
       "      <th>2023-09-01</th>\n",
       "      <td>-0.118651</td>\n",
       "      <td>-0.048719</td>\n",
       "    </tr>\n",
       "    <tr>\n",
       "      <th>2023-10-01</th>\n",
       "      <td>-0.062430</td>\n",
       "      <td>-0.021980</td>\n",
       "    </tr>\n",
       "    <tr>\n",
       "      <th>2023-11-01</th>\n",
       "      <td>0.103605</td>\n",
       "      <td>0.039234</td>\n",
       "    </tr>\n",
       "  </tbody>\n",
       "</table>\n",
       "<p>297 rows × 2 columns</p>\n",
       "</div>"
      ],
      "text/plain": [
       "                NVDA     ^GSPC\n",
       "Date                          \n",
       "1999-03-01 -0.037037  0.038794\n",
       "1999-04-01 -0.136095  0.037944\n",
       "1999-05-01 -0.065067 -0.024970\n",
       "1999-06-01  0.120880  0.054438\n",
       "1999-07-01  0.052287 -0.032046\n",
       "...              ...       ...\n",
       "2023-07-01  0.104767  0.031139\n",
       "2023-08-01  0.056196 -0.017716\n",
       "2023-09-01 -0.118651 -0.048719\n",
       "2023-10-01 -0.062430 -0.021980\n",
       "2023-11-01  0.103605  0.039234\n",
       "\n",
       "[297 rows x 2 columns]"
      ]
     },
     "execution_count": 11,
     "metadata": {},
     "output_type": "execute_result"
    }
   ],
   "source": [
    "ticker_list = ['NVDA','^GSPC']\n",
    "raw_data = yf.download (tickers = ticker_list, interval = \"1mo\")['Adj Close']\n",
    "data_returns = raw_data.pct_change().dropna()\n",
    "data_returns"
   ]
  },
  {
   "cell_type": "code",
   "execution_count": 12,
   "id": "cec9441a-a53b-450f-9980-8f1aae3f9763",
   "metadata": {
    "tags": []
   },
   "outputs": [
    {
     "data": {
      "text/plain": [
       "['NVDAret', 'SP500ret']"
      ]
     },
     "execution_count": 12,
     "metadata": {},
     "output_type": "execute_result"
    }
   ],
   "source": [
    "data_returns.columns=['NVDAret','SP500ret']\n",
    "list(data_returns.columns)"
   ]
  },
  {
   "cell_type": "code",
   "execution_count": 13,
   "id": "0f46289c-acaa-4351-a682-1ec2e1982194",
   "metadata": {
    "tags": []
   },
   "outputs": [
    {
     "name": "stdout",
     "output_type": "stream",
     "text": [
      "                            OLS Regression Results                            \n",
      "==============================================================================\n",
      "Dep. Variable:                NVDAret   R-squared:                       0.257\n",
      "Model:                            OLS   Adj. R-squared:                  0.255\n",
      "Method:                 Least Squares   F-statistic:                     102.1\n",
      "Date:                Sun, 05 Nov 2023   Prob (F-statistic):           8.34e-21\n",
      "Time:                        17:02:13   Log-Likelihood:                 135.23\n",
      "No. Observations:                 297   AIC:                            -266.5\n",
      "Df Residuals:                     295   BIC:                            -259.1\n",
      "Df Model:                           1                                         \n",
      "Covariance Type:            nonrobust                                         \n",
      "==============================================================================\n",
      "                 coef    std err          t      P>|t|      [0.025      0.975]\n",
      "------------------------------------------------------------------------------\n",
      "Intercept      0.0281      0.009      3.122      0.002       0.010       0.046\n",
      "SP500ret       2.0458      0.202     10.104      0.000       1.647       2.444\n",
      "==============================================================================\n",
      "Omnibus:                       84.528   Durbin-Watson:                   1.956\n",
      "Prob(Omnibus):                  0.000   Jarque-Bera (JB):              253.800\n",
      "Skew:                           1.259   Prob(JB):                     7.73e-56\n",
      "Kurtosis:                       6.764   Cond. No.                         22.7\n",
      "==============================================================================\n",
      "\n",
      "Notes:\n",
      "[1] Standard Errors assume that the covariance matrix of the errors is correctly specified.\n"
     ]
    }
   ],
   "source": [
    "# d) Regress NVDA returns on S&P 500 (ticker ^GSPC) returns. Write out the fitted regression model.\n",
    "\n",
    "import statsmodels.formula.api as smf\n",
    "\n",
    "model = smf.ols(\"NVDAret ~ SP500ret\", data=data_returns)\n",
    "results=model.fit()\n",
    "print(results.summary())"
   ]
  },
  {
   "cell_type": "code",
   "execution_count": 14,
   "id": "a2c0eae4-3309-48b7-8a6e-dd1b790b6b6e",
   "metadata": {
    "tags": []
   },
   "outputs": [],
   "source": [
    "# e) Comment on the statistical significance of the estimated regression coefficients.\n",
    "#P value is 0.000, les than 0.05 so there is a statistical significance.\n",
    "#Let, null hypothesis is H0 ∶ β = 1, alternative hypothesis is H1 ∶ β ≠ 1\n",
    "#Reject H0 since test statistic doesn't lie within non-rejection region. \n",
    "#Reject H0 since 1 doesn't lie within the confidence interval (1.647,2.444)\n",
    "#R-squared (variance in the dependent variable) is 0.257. Near to 0 far from 1.\n",
    "#Here, dependent variable is NVDAret and independent variable is SP500ret.\n",
    "#No. Observations - Df Model - 1 = Df Residuals\n",
    "#Nonrobust means there is a proper covariance."
   ]
  },
  {
   "cell_type": "code",
   "execution_count": 15,
   "id": "25aebd77-2f6c-4e2d-84b5-7c2e869081cf",
   "metadata": {
    "tags": []
   },
   "outputs": [],
   "source": [
    "# f) Build a 95% confidence interval for the coefficient of S&P 500 returns\n",
    "#t value should be between -1.96 and 1.96\n",
    "#The confidence interval is given by (βˆ − tcrit × SE(βˆ), βˆ + tcrit × SE(βˆ))"
   ]
  },
  {
   "cell_type": "code",
   "execution_count": 16,
   "id": "33702bd1-79d6-4ddf-ba31-6d1cda3ef3af",
   "metadata": {},
   "outputs": [
    {
     "data": {
      "text/plain": [
       "1.6498799999999998"
      ]
     },
     "execution_count": 16,
     "metadata": {},
     "output_type": "execute_result"
    }
   ],
   "source": [
    "lower_CI = 2.0458-1.96*0.202\n",
    "lower_CI"
   ]
  },
  {
   "cell_type": "code",
   "execution_count": 17,
   "id": "755e6c23-455f-4f9b-ae8b-a1fc8a545ddd",
   "metadata": {
    "tags": []
   },
   "outputs": [
    {
     "data": {
      "text/plain": [
       "2.4417199999999997"
      ]
     },
     "execution_count": 17,
     "metadata": {},
     "output_type": "execute_result"
    }
   ],
   "source": [
    "upper_CI = 2.0458+1.96*0.202\n",
    "upper_CI"
   ]
  },
  {
   "cell_type": "code",
   "execution_count": 18,
   "id": "4c7ac6f9-fbab-49e8-b050-b1b38ed498a9",
   "metadata": {
    "tags": []
   },
   "outputs": [],
   "source": [
    "# 95% confidence interval for the coefficient of S&P 500 returns is (1.6499,2.4417)"
   ]
  },
  {
   "cell_type": "code",
   "execution_count": 19,
   "id": "b79c27a2-3b49-4cf5-94a8-8d3f20f0a5ca",
   "metadata": {
    "tags": []
   },
   "outputs": [
    {
     "name": "stdout",
     "output_type": "stream",
     "text": [
      "             Adj Close   returns  Month\n",
      "Date                                   \n",
      "1999-02-01    0.419292       NaN      2\n",
      "1999-03-01    0.403763 -0.037037      3\n",
      "1999-04-01    0.348813 -0.136095      4\n",
      "1999-05-01    0.326116 -0.065067      5\n",
      "1999-06-01    0.365537  0.120880      6\n",
      "...                ...       ...    ...\n",
      "2023-07-01  467.251526  0.104767      7\n",
      "2023-08-01  493.509338  0.056196      8\n",
      "2023-09-01  434.954163 -0.118651      9\n",
      "2023-10-01  407.799988 -0.062430     10\n",
      "2023-11-01  450.049988  0.103605     11\n",
      "\n",
      "[298 rows x 3 columns]\n",
      "        Adj Close     returns       Month\n",
      "count  298.000000  297.000000  298.000000\n",
      "mean    41.319043    0.038797    6.500000\n",
      "std     87.087532    0.178351    3.439961\n",
      "min      0.326116   -0.486551    1.000000\n",
      "25%      2.500804   -0.056095    4.000000\n",
      "50%      4.238801    0.030835    6.500000\n",
      "75%     35.695159    0.122970    9.000000\n",
      "max    493.509338    0.826238   12.000000\n"
     ]
    }
   ],
   "source": [
    "#g) Now, let’s drop S&P 500 returns and run a simpler regression. Devise an appropriate regression and\n",
    "#test if NVDA has a different average return level in January compared to other months. What do you\n",
    "#conclude?\n",
    "#We found data above\n",
    "data_fin = data\n",
    "print(data)\n",
    "print(data.describe())"
   ]
  },
  {
   "cell_type": "code",
   "execution_count": 20,
   "id": "293c9957-2894-4bda-ab74-c8ad3f17589a",
   "metadata": {
    "tags": []
   },
   "outputs": [
    {
     "data": {
      "text/html": [
       "<div>\n",
       "<style scoped>\n",
       "    .dataframe tbody tr th:only-of-type {\n",
       "        vertical-align: middle;\n",
       "    }\n",
       "\n",
       "    .dataframe tbody tr th {\n",
       "        vertical-align: top;\n",
       "    }\n",
       "\n",
       "    .dataframe thead th {\n",
       "        text-align: right;\n",
       "    }\n",
       "</style>\n",
       "<table border=\"1\" class=\"dataframe\">\n",
       "  <thead>\n",
       "    <tr style=\"text-align: right;\">\n",
       "      <th></th>\n",
       "      <th>Adj Close</th>\n",
       "      <th>returns</th>\n",
       "      <th>Month</th>\n",
       "      <th>January</th>\n",
       "    </tr>\n",
       "    <tr>\n",
       "      <th>Date</th>\n",
       "      <th></th>\n",
       "      <th></th>\n",
       "      <th></th>\n",
       "      <th></th>\n",
       "    </tr>\n",
       "  </thead>\n",
       "  <tbody>\n",
       "    <tr>\n",
       "      <th>1999-02-01</th>\n",
       "      <td>0.419292</td>\n",
       "      <td>NaN</td>\n",
       "      <td>2</td>\n",
       "      <td>0</td>\n",
       "    </tr>\n",
       "    <tr>\n",
       "      <th>1999-03-01</th>\n",
       "      <td>0.403763</td>\n",
       "      <td>-0.037037</td>\n",
       "      <td>3</td>\n",
       "      <td>0</td>\n",
       "    </tr>\n",
       "    <tr>\n",
       "      <th>1999-04-01</th>\n",
       "      <td>0.348813</td>\n",
       "      <td>-0.136095</td>\n",
       "      <td>4</td>\n",
       "      <td>0</td>\n",
       "    </tr>\n",
       "    <tr>\n",
       "      <th>1999-05-01</th>\n",
       "      <td>0.326116</td>\n",
       "      <td>-0.065067</td>\n",
       "      <td>5</td>\n",
       "      <td>0</td>\n",
       "    </tr>\n",
       "    <tr>\n",
       "      <th>1999-06-01</th>\n",
       "      <td>0.365537</td>\n",
       "      <td>0.120880</td>\n",
       "      <td>6</td>\n",
       "      <td>0</td>\n",
       "    </tr>\n",
       "    <tr>\n",
       "      <th>...</th>\n",
       "      <td>...</td>\n",
       "      <td>...</td>\n",
       "      <td>...</td>\n",
       "      <td>...</td>\n",
       "    </tr>\n",
       "    <tr>\n",
       "      <th>2023-07-01</th>\n",
       "      <td>467.251526</td>\n",
       "      <td>0.104767</td>\n",
       "      <td>7</td>\n",
       "      <td>0</td>\n",
       "    </tr>\n",
       "    <tr>\n",
       "      <th>2023-08-01</th>\n",
       "      <td>493.509338</td>\n",
       "      <td>0.056196</td>\n",
       "      <td>8</td>\n",
       "      <td>0</td>\n",
       "    </tr>\n",
       "    <tr>\n",
       "      <th>2023-09-01</th>\n",
       "      <td>434.954163</td>\n",
       "      <td>-0.118651</td>\n",
       "      <td>9</td>\n",
       "      <td>0</td>\n",
       "    </tr>\n",
       "    <tr>\n",
       "      <th>2023-10-01</th>\n",
       "      <td>407.799988</td>\n",
       "      <td>-0.062430</td>\n",
       "      <td>10</td>\n",
       "      <td>0</td>\n",
       "    </tr>\n",
       "    <tr>\n",
       "      <th>2023-11-01</th>\n",
       "      <td>450.049988</td>\n",
       "      <td>0.103605</td>\n",
       "      <td>11</td>\n",
       "      <td>0</td>\n",
       "    </tr>\n",
       "  </tbody>\n",
       "</table>\n",
       "<p>298 rows × 4 columns</p>\n",
       "</div>"
      ],
      "text/plain": [
       "             Adj Close   returns  Month  January\n",
       "Date                                            \n",
       "1999-02-01    0.419292       NaN      2        0\n",
       "1999-03-01    0.403763 -0.037037      3        0\n",
       "1999-04-01    0.348813 -0.136095      4        0\n",
       "1999-05-01    0.326116 -0.065067      5        0\n",
       "1999-06-01    0.365537  0.120880      6        0\n",
       "...                ...       ...    ...      ...\n",
       "2023-07-01  467.251526  0.104767      7        0\n",
       "2023-08-01  493.509338  0.056196      8        0\n",
       "2023-09-01  434.954163 -0.118651      9        0\n",
       "2023-10-01  407.799988 -0.062430     10        0\n",
       "2023-11-01  450.049988  0.103605     11        0\n",
       "\n",
       "[298 rows x 4 columns]"
      ]
     },
     "execution_count": 20,
     "metadata": {},
     "output_type": "execute_result"
    }
   ],
   "source": [
    "del data\n",
    "data_fin['January'] = 0\n",
    "data_fin"
   ]
  },
  {
   "cell_type": "code",
   "execution_count": 21,
   "id": "724126cb-e777-4c63-abad-46702a73cb88",
   "metadata": {
    "tags": []
   },
   "outputs": [
    {
     "name": "stdout",
     "output_type": "stream",
     "text": [
      "                            OLS Regression Results                            \n",
      "==============================================================================\n",
      "Dep. Variable:                returns   R-squared:                       0.000\n",
      "Model:                            OLS   Adj. R-squared:                 -0.003\n",
      "Method:                 Least Squares   F-statistic:                   0.04619\n",
      "Date:                Sun, 05 Nov 2023   Prob (F-statistic):              0.830\n",
      "Time:                        17:02:20   Log-Likelihood:                 91.127\n",
      "No. Observations:                 297   AIC:                            -178.3\n",
      "Df Residuals:                     295   BIC:                            -170.9\n",
      "Df Model:                           1                                         \n",
      "Covariance Type:            nonrobust                                         \n",
      "==============================================================================\n",
      "                 coef    std err          t      P>|t|      [0.025      0.975]\n",
      "------------------------------------------------------------------------------\n",
      "Intercept      0.0395      0.011      3.650      0.000       0.018       0.061\n",
      "January       -0.0082      0.038     -0.215      0.830      -0.083       0.067\n",
      "==============================================================================\n",
      "Omnibus:                       36.387   Durbin-Watson:                   1.858\n",
      "Prob(Omnibus):                  0.000   Jarque-Bera (JB):               74.669\n",
      "Skew:                           0.644   Prob(JB):                     6.11e-17\n",
      "Kurtosis:                       5.092   Cond. No.                         3.70\n",
      "==============================================================================\n",
      "\n",
      "Notes:\n",
      "[1] Standard Errors assume that the covariance matrix of the errors is correctly specified.\n"
     ]
    }
   ],
   "source": [
    "data_fin.loc[data_fin['Month']==1, \"January\"] = 1\n",
    "\n",
    "model = smf.ols(\"returns ~ January\", data=data_fin)\n",
    "results=model.fit()\n",
    "print(results.summary())"
   ]
  },
  {
   "cell_type": "code",
   "execution_count": 22,
   "id": "83bbef35-d917-4e2a-af83-9f9eb7ce9b73",
   "metadata": {
    "tags": []
   },
   "outputs": [],
   "source": [
    "#P value is higher than 0.05 significance level, t value is negative. So statistically insignificant.\n",
    "#There's no relation between the overall returns of NVDA and returns on month \"January\"."
   ]
  },
  {
   "cell_type": "code",
   "execution_count": 23,
   "id": "bf12ed0a-b6a6-422f-ae17-1e740fb4abec",
   "metadata": {
    "tags": []
   },
   "outputs": [
    {
     "data": {
      "text/html": [
       "<div>\n",
       "<style scoped>\n",
       "    .dataframe tbody tr th:only-of-type {\n",
       "        vertical-align: middle;\n",
       "    }\n",
       "\n",
       "    .dataframe tbody tr th {\n",
       "        vertical-align: top;\n",
       "    }\n",
       "\n",
       "    .dataframe thead th {\n",
       "        text-align: right;\n",
       "    }\n",
       "</style>\n",
       "<table border=\"1\" class=\"dataframe\">\n",
       "  <thead>\n",
       "    <tr style=\"text-align: right;\">\n",
       "      <th></th>\n",
       "      <th>Adj Close</th>\n",
       "      <th>returns</th>\n",
       "      <th>Month</th>\n",
       "      <th>January</th>\n",
       "    </tr>\n",
       "    <tr>\n",
       "      <th>Date</th>\n",
       "      <th></th>\n",
       "      <th></th>\n",
       "      <th></th>\n",
       "      <th></th>\n",
       "    </tr>\n",
       "  </thead>\n",
       "  <tbody>\n",
       "    <tr>\n",
       "      <th>1999-02-01</th>\n",
       "      <td>0.419292</td>\n",
       "      <td>NaN</td>\n",
       "      <td>2</td>\n",
       "      <td>0</td>\n",
       "    </tr>\n",
       "    <tr>\n",
       "      <th>1999-03-01</th>\n",
       "      <td>0.403763</td>\n",
       "      <td>-0.037037</td>\n",
       "      <td>3</td>\n",
       "      <td>0</td>\n",
       "    </tr>\n",
       "    <tr>\n",
       "      <th>1999-04-01</th>\n",
       "      <td>0.348813</td>\n",
       "      <td>-0.136095</td>\n",
       "      <td>4</td>\n",
       "      <td>0</td>\n",
       "    </tr>\n",
       "    <tr>\n",
       "      <th>1999-05-01</th>\n",
       "      <td>0.326116</td>\n",
       "      <td>-0.065067</td>\n",
       "      <td>5</td>\n",
       "      <td>0</td>\n",
       "    </tr>\n",
       "    <tr>\n",
       "      <th>1999-06-01</th>\n",
       "      <td>0.365537</td>\n",
       "      <td>0.120880</td>\n",
       "      <td>6</td>\n",
       "      <td>0</td>\n",
       "    </tr>\n",
       "    <tr>\n",
       "      <th>...</th>\n",
       "      <td>...</td>\n",
       "      <td>...</td>\n",
       "      <td>...</td>\n",
       "      <td>...</td>\n",
       "    </tr>\n",
       "    <tr>\n",
       "      <th>2023-07-01</th>\n",
       "      <td>467.251526</td>\n",
       "      <td>0.104767</td>\n",
       "      <td>7</td>\n",
       "      <td>0</td>\n",
       "    </tr>\n",
       "    <tr>\n",
       "      <th>2023-08-01</th>\n",
       "      <td>493.509338</td>\n",
       "      <td>0.056196</td>\n",
       "      <td>8</td>\n",
       "      <td>0</td>\n",
       "    </tr>\n",
       "    <tr>\n",
       "      <th>2023-09-01</th>\n",
       "      <td>434.954163</td>\n",
       "      <td>-0.118651</td>\n",
       "      <td>9</td>\n",
       "      <td>0</td>\n",
       "    </tr>\n",
       "    <tr>\n",
       "      <th>2023-10-01</th>\n",
       "      <td>407.799988</td>\n",
       "      <td>-0.062430</td>\n",
       "      <td>10</td>\n",
       "      <td>0</td>\n",
       "    </tr>\n",
       "    <tr>\n",
       "      <th>2023-11-01</th>\n",
       "      <td>450.049988</td>\n",
       "      <td>0.103605</td>\n",
       "      <td>11</td>\n",
       "      <td>0</td>\n",
       "    </tr>\n",
       "  </tbody>\n",
       "</table>\n",
       "<p>298 rows × 4 columns</p>\n",
       "</div>"
      ],
      "text/plain": [
       "             Adj Close   returns  Month  January\n",
       "Date                                            \n",
       "1999-02-01    0.419292       NaN      2        0\n",
       "1999-03-01    0.403763 -0.037037      3        0\n",
       "1999-04-01    0.348813 -0.136095      4        0\n",
       "1999-05-01    0.326116 -0.065067      5        0\n",
       "1999-06-01    0.365537  0.120880      6        0\n",
       "...                ...       ...    ...      ...\n",
       "2023-07-01  467.251526  0.104767      7        0\n",
       "2023-08-01  493.509338  0.056196      8        0\n",
       "2023-09-01  434.954163 -0.118651      9        0\n",
       "2023-10-01  407.799988 -0.062430     10        0\n",
       "2023-11-01  450.049988  0.103605     11        0\n",
       "\n",
       "[298 rows x 4 columns]"
      ]
     },
     "execution_count": 23,
     "metadata": {},
     "output_type": "execute_result"
    }
   ],
   "source": [
    "data_fin"
   ]
  },
  {
   "cell_type": "code",
   "execution_count": 24,
   "id": "519a8c9e-6862-4df2-851d-19ff854f8ad6",
   "metadata": {
    "tags": []
   },
   "outputs": [
    {
     "data": {
      "text/plain": [
       "Month\n",
       "1     0.031284\n",
       "2     0.068548\n",
       "3     0.054034\n",
       "4     0.000308\n",
       "5     0.098641\n",
       "6    -0.021022\n",
       "7    -0.019035\n",
       "8     0.082360\n",
       "9    -0.022730\n",
       "10    0.052676\n",
       "11    0.106336\n",
       "12    0.034898\n",
       "Name: returns, dtype: float64"
      ]
     },
     "execution_count": 24,
     "metadata": {},
     "output_type": "execute_result"
    }
   ],
   "source": [
    "# h) Now, let’s drop S&P 500 returns and run a simpler regression. Calculate the average return for each calendar month, i.e., average return in January, average return\n",
    "# in February, etc., and report them. Do you see any pattern?\n",
    "Monthly_Returns_NVDA=data_fin.groupby('Month')['returns'].mean()\n",
    "Monthly_Returns_NVDA"
   ]
  },
  {
   "cell_type": "code",
   "execution_count": 25,
   "id": "e1388a06-0075-445a-87a0-e3c94bca6a8a",
   "metadata": {},
   "outputs": [],
   "source": [
    "#As Nvidia Corporation (NVDA) is a software and fabless company, it is related to business world and its needs.\n",
    "#Workers generally take their annual leave during summer. We observe that minimum returns are on summer period.\n",
    "#New systems could be more applicable and workload is higher after summer period and the sector becomes dependent to NVDA."
   ]
  },
  {
   "cell_type": "code",
   "execution_count": 26,
   "id": "8ec0f48e-5640-4e75-8f10-e47cd6c58805",
   "metadata": {
    "tags": []
   },
   "outputs": [
    {
     "data": {
      "image/png": "[encoded data removed]",
      "text/plain": [
       "<Figure size 640x480 with 1 Axes>"
      ]
     },
     "metadata": {},
     "output_type": "display_data"
    }
   ],
   "source": [
    "Monthly_Returns_NVDA.plot()\n",
    "plt.xlabel(\"Months\")\n",
    "plt.ylabel(\"Adjusted\")\n",
    "plt.title(\"NVDA Monthly Returns\")\n",
    "plt.show()"
   ]
  }
 ],
 "metadata": {
  "kernelspec": {
   "display_name": "Python 3 (ipykernel)",
   "language": "python",
   "name": "python3"
  },
  "language_info": {
   "codemirror_mode": {
    "name": "ipython",
    "version": 3
   },
   "file_extension": ".py",
   "mimetype": "text/x-python",
   "name": "python",
   "nbconvert_exporter": "python",
   "pygments_lexer": "ipython3",
   "version": "3.11.4"
  }
 },
 "nbformat": 4,
 "nbformat_minor": 5
}
